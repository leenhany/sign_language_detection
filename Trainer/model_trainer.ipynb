{
  "cells": [
    {
      "cell_type": "markdown",
      "metadata": {},
      "source": [
        "# Setup Requirements"
      ]
    },
    {
      "cell_type": "markdown",
      "metadata": {},
      "source": [
        "## Import Libraries"
      ]
    },
    {
      "cell_type": "code",
      "execution_count": 1,
      "metadata": {
        "id": "igMyGnjE9hEp"
      },
      "outputs": [],
      "source": [
        "import csv\n",
        "import numpy as np\n",
        "import tensorflow as tf\n",
        "from sklearn.model_selection import train_test_split\n",
        "\n",
        "RANDOM_SEED = 42"
      ]
    },
    {
      "cell_type": "markdown",
      "metadata": {
        "id": "t2HDvhIu9hEr"
      },
      "source": [
        "## Specify Paths"
      ]
    },
    {
      "cell_type": "code",
      "execution_count": 2,
      "metadata": {
        "id": "9NvZP2Zn9hEy"
      },
      "outputs": [],
      "source": [
        "dataset_path = 'model/data/data.csv'\n",
        "model_save_path = 'model/model.keras'\n",
        "tflite_save_path = 'model/model.tflite'\n",
        "label_path = 'model/data/label.csv'"
      ]
    },
    {
      "cell_type": "markdown",
      "metadata": {
        "id": "s5oMH7x19hEz"
      },
      "source": [
        "## Setup Attributes"
      ]
    },
    {
      "cell_type": "code",
      "execution_count": 3,
      "metadata": {
        "id": "du4kodXL9hEz"
      },
      "outputs": [],
      "source": [
        "DIMENSION = 2\n",
        "\n",
        "NUM_CLASSES = 50"
      ]
    },
    {
      "cell_type": "markdown",
      "metadata": {
        "id": "XjnL0uso9hEz"
      },
      "source": [
        "# Preprocess Data"
      ]
    },
    {
      "cell_type": "markdown",
      "metadata": {},
      "source": [
        "## Load Data"
      ]
    },
    {
      "cell_type": "code",
      "execution_count": 4,
      "metadata": {
        "id": "QT5ZqtEz9hE0"
      },
      "outputs": [],
      "source": [
        "X_dataset = np.loadtxt(dataset_path, delimiter=',', dtype='float32', usecols=list(range(1, (21 * DIMENSION) + 1)))"
      ]
    },
    {
      "cell_type": "code",
      "execution_count": 5,
      "metadata": {
        "id": "QmoKFsp49hE0"
      },
      "outputs": [],
      "source": [
        "y_dataset = np.loadtxt(dataset_path, delimiter=',', dtype='int32', usecols=(0))"
      ]
    },
    {
      "cell_type": "markdown",
      "metadata": {},
      "source": [
        "## Split Train/Test"
      ]
    },
    {
      "cell_type": "code",
      "execution_count": 6,
      "metadata": {
        "id": "xQU7JTZ_9hE0"
      },
      "outputs": [],
      "source": [
        "X_train, X_test, y_train, y_test = train_test_split(X_dataset, y_dataset, train_size=0.8, random_state=RANDOM_SEED)\n",
        "X_train, X_val, y_train, y_val = train_test_split(X_train, y_train, train_size=0.75, random_state=RANDOM_SEED)"
      ]
    },
    {
      "cell_type": "markdown",
      "metadata": {
        "id": "mxK_lETT9hE0"
      },
      "source": [
        "# Build Model"
      ]
    },
    {
      "cell_type": "markdown",
      "metadata": {},
      "source": [
        "## Construct Model"
      ]
    },
    {
      "cell_type": "code",
      "execution_count": 7,
      "metadata": {
        "id": "vHBmUf1t9hE1"
      },
      "outputs": [],
      "source": [
        "model = tf.keras.models.Sequential([\n",
        "    tf.keras.layers.Input((21 * DIMENSION, )),\n",
        "    tf.keras.layers.Dense(128, activation='leaky_relu'),\n",
        "    tf.keras.layers.Dropout(0.2),\n",
        "    tf.keras.layers.Dense(64, activation='leaky_relu'),\n",
        "    tf.keras.layers.Dropout(0.4),\n",
        "    tf.keras.layers.Dense(32, activation='leaky_relu'),\n",
        "    tf.keras.layers.Dense(NUM_CLASSES, activation='softmax')\n",
        "])"
      ]
    },
    {
      "cell_type": "markdown",
      "metadata": {},
      "source": [
        "## Compile Model"
      ]
    },
    {
      "cell_type": "code",
      "execution_count": 8,
      "metadata": {
        "id": "c3Dac0M_9hE2"
      },
      "outputs": [],
      "source": [
        "# Model compilation\n",
        "model.compile(\n",
        "    optimizer='adam',\n",
        "    loss='sparse_categorical_crossentropy',\n",
        "    metrics=['accuracy']\n",
        ")\n"
      ]
    },
    {
      "cell_type": "markdown",
      "metadata": {},
      "source": [
        "## Setup Callbacks"
      ]
    },
    {
      "cell_type": "code",
      "execution_count": 9,
      "metadata": {
        "id": "MbMjOflQ9hE1"
      },
      "outputs": [],
      "source": [
        "# Model checkpoint callback\n",
        "cp_callback = tf.keras.callbacks.ModelCheckpoint(\n",
        "    model_save_path, verbose=1, save_weights_only=False)\n",
        "# Callback for early stopping\n",
        "es_callback = tf.keras.callbacks.EarlyStopping(monitor='val_loss', patience=4, verbose=1)"
      ]
    },
    {
      "cell_type": "markdown",
      "metadata": {},
      "source": [
        "## Summary"
      ]
    },
    {
      "cell_type": "code",
      "execution_count": 10,
      "metadata": {
        "colab": {
          "base_uri": "https://localhost:8080/"
        },
        "id": "ypqky9tc9hE1",
        "outputId": "5db082bb-30e3-4110-bf63-a1ee777ecd46"
      },
      "outputs": [
        {
          "name": "stdout",
          "output_type": "stream",
          "text": [
            "Model: \"sequential\"\n",
            "_________________________________________________________________\n",
            " Layer (type)                Output Shape              Param #   \n",
            "=================================================================\n",
            " dense (Dense)               (None, 128)               5504      \n",
            "                                                                 \n",
            " dropout (Dropout)           (None, 128)               0         \n",
            "                                                                 \n",
            " dense_1 (Dense)             (None, 64)                8256      \n",
            "                                                                 \n",
            " dropout_1 (Dropout)         (None, 64)                0         \n",
            "                                                                 \n",
            " dense_2 (Dense)             (None, 32)                2080      \n",
            "                                                                 \n",
            " dense_3 (Dense)             (None, 50)                1650      \n",
            "                                                                 \n",
            "=================================================================\n",
            "Total params: 17,490\n",
            "Trainable params: 17,490\n",
            "Non-trainable params: 0\n",
            "_________________________________________________________________\n"
          ]
        }
      ],
      "source": [
        "model.summary()  # tf.keras.utils.plot_model(model, show_shapes=True)"
      ]
    },
    {
      "cell_type": "markdown",
      "metadata": {
        "id": "7XI0j1Iu9hE2"
      },
      "source": [
        "# Train Model"
      ]
    },
    {
      "cell_type": "code",
      "execution_count": 11,
      "metadata": {
        "colab": {
          "base_uri": "https://localhost:8080/"
        },
        "id": "WirBl-JE9hE3",
        "outputId": "71b30ca2-8294-4d9d-8aa2-800d90d399de",
        "scrolled": true
      },
      "outputs": [
        {
          "name": "stdout",
          "output_type": "stream",
          "text": [
            "Epoch 1/50\n",
            "6994/7050 [============================>.] - ETA: 0s - loss: 0.4543 - accuracy: 0.8538\n",
            "Epoch 1: saving model to model\\model.keras\n",
            "7050/7050 [==============================] - 11s 1ms/step - loss: 0.4515 - accuracy: 0.8547 - val_loss: 0.0178 - val_accuracy: 0.9967\n",
            "Epoch 2/50\n",
            "7006/7050 [============================>.] - ETA: 0s - loss: 0.0725 - accuracy: 0.9766\n",
            "Epoch 2: saving model to model\\model.keras\n",
            "7050/7050 [==============================] - 10s 1ms/step - loss: 0.0723 - accuracy: 0.9767 - val_loss: 0.0070 - val_accuracy: 0.9983\n",
            "Epoch 3/50\n",
            "7017/7050 [============================>.] - ETA: 0s - loss: 0.0452 - accuracy: 0.9859\n",
            "Epoch 3: saving model to model\\model.keras\n",
            "7050/7050 [==============================] - 10s 1ms/step - loss: 0.0451 - accuracy: 0.9859 - val_loss: 0.0041 - val_accuracy: 0.9986\n",
            "Epoch 4/50\n",
            "7022/7050 [============================>.] - ETA: 0s - loss: 0.0365 - accuracy: 0.9883\n",
            "Epoch 4: saving model to model\\model.keras\n",
            "7050/7050 [==============================] - 11s 2ms/step - loss: 0.0365 - accuracy: 0.9882 - val_loss: 0.0058 - val_accuracy: 0.9984\n",
            "Epoch 5/50\n",
            "7016/7050 [============================>.] - ETA: 0s - loss: 0.0321 - accuracy: 0.9899\n",
            "Epoch 5: saving model to model\\model.keras\n",
            "7050/7050 [==============================] - 10s 1ms/step - loss: 0.0321 - accuracy: 0.9899 - val_loss: 0.0077 - val_accuracy: 0.9973\n",
            "Epoch 6/50\n",
            "7012/7050 [============================>.] - ETA: 0s - loss: 0.0263 - accuracy: 0.9920\n",
            "Epoch 6: saving model to model\\model.keras\n",
            "7050/7050 [==============================] - 11s 1ms/step - loss: 0.0263 - accuracy: 0.9920 - val_loss: 0.0022 - val_accuracy: 0.9997\n",
            "Epoch 7/50\n",
            "6999/7050 [============================>.] - ETA: 0s - loss: 0.0246 - accuracy: 0.9922\n",
            "Epoch 7: saving model to model\\model.keras\n",
            "7050/7050 [==============================] - 11s 1ms/step - loss: 0.0246 - accuracy: 0.9922 - val_loss: 0.0028 - val_accuracy: 0.9992\n",
            "Epoch 8/50\n",
            "7010/7050 [============================>.] - ETA: 0s - loss: 0.0246 - accuracy: 0.9927\n",
            "Epoch 8: saving model to model\\model.keras\n",
            "7050/7050 [==============================] - 11s 2ms/step - loss: 0.0247 - accuracy: 0.9926 - val_loss: 0.0052 - val_accuracy: 0.9985\n",
            "Epoch 9/50\n",
            "7017/7050 [============================>.] - ETA: 0s - loss: 0.0240 - accuracy: 0.9932\n",
            "Epoch 9: saving model to model\\model.keras\n",
            "7050/7050 [==============================] - 11s 2ms/step - loss: 0.0239 - accuracy: 0.9932 - val_loss: 0.0031 - val_accuracy: 0.9994\n",
            "Epoch 10/50\n",
            "7025/7050 [============================>.] - ETA: 0s - loss: 0.0234 - accuracy: 0.9928\n",
            "Epoch 10: saving model to model\\model.keras\n",
            "7050/7050 [==============================] - 11s 2ms/step - loss: 0.0235 - accuracy: 0.9928 - val_loss: 0.0030 - val_accuracy: 0.9994\n",
            "Epoch 10: early stopping\n"
          ]
        },
        {
          "data": {
            "text/plain": [
              "<keras.callbacks.History at 0x2c4bea29820>"
            ]
          },
          "execution_count": 11,
          "metadata": {},
          "output_type": "execute_result"
        }
      ],
      "source": [
        "model.fit(\n",
        "    X_train,\n",
        "    y_train,\n",
        "    epochs=50,\n",
        "    batch_size=8,\n",
        "    validation_data=(X_val, y_val),\n",
        "    callbacks=[cp_callback, es_callback]\n",
        ")"
      ]
    },
    {
      "cell_type": "markdown",
      "metadata": {},
      "source": [
        "# Evaluate Model"
      ]
    },
    {
      "cell_type": "markdown",
      "metadata": {},
      "source": [
        "## Plot Confusion Matrix"
      ]
    },
    {
      "cell_type": "code",
      "execution_count": 12,
      "metadata": {},
      "outputs": [],
      "source": [
        "with open(label_path,encoding='utf-8-sig') as f:\n",
        "\t\tclassifier_labels = csv.reader(f)\n",
        "\t\tclassifier_labels = [\n",
        "\t\t\trow[0] for row in classifier_labels\n",
        "\t\t]"
      ]
    },
    {
      "cell_type": "code",
      "execution_count": 13,
      "metadata": {},
      "outputs": [
        {
          "name": "stdout",
          "output_type": "stream",
          "text": [
            "['A', 'B', 'C', 'D', 'E', 'F', 'G', 'H', 'I', 'J', 'K', 'L', 'M', 'N', 'O', 'P', 'Q', 'R', 'S', 'T', 'U', 'V', 'W', 'X', 'Y', 'Z', 'Hi', 'Good', 'Bad', 'how are', 'you', 'my ', 'name ', 'nice to', 'meet', 'you', 'what is ', \"I'm fine\", 'thanks ', 'everyone', 'today', 'we will', 'present', 'our ', 'app', 'to help', 'deaf', 'people', 'hope ', 'like ']\n"
          ]
        }
      ],
      "source": [
        "print(classifier_labels)"
      ]
    },
    {
      "cell_type": "code",
      "execution_count": 14,
      "metadata": {
        "colab": {
          "base_uri": "https://localhost:8080/",
          "height": 582
        },
        "id": "AP1V6SCk9hE5",
        "outputId": "08e41a80-7a4a-4619-8125-ecc371368d19"
      },
      "outputs": [
        {
          "name": "stdout",
          "output_type": "stream",
          "text": [
            "588/588 [==============================] - 1s 906us/step\n"
          ]
        },
        {
          "data": {
            "image/png": "[encoded data removed]",
            "text/plain": [
              "<Figure size 1000x900 with 2 Axes>"
            ]
          },
          "metadata": {},
          "output_type": "display_data"
        },
        {
          "name": "stdout",
          "output_type": "stream",
          "text": [
            "Classification Report\n",
            "              precision    recall  f1-score   support\n",
            "\n",
            "           0       1.00      0.99      1.00       370\n",
            "           1       1.00      1.00      1.00       404\n",
            "           2       1.00      1.00      1.00       356\n",
            "           3       1.00      1.00      1.00       396\n",
            "           4       1.00      1.00      1.00       420\n",
            "           5       1.00      1.00      1.00       399\n",
            "           6       1.00      1.00      1.00       405\n",
            "           7       0.99      1.00      0.99       375\n",
            "           8       1.00      1.00      1.00       401\n",
            "           9       1.00      1.00      1.00       393\n",
            "          10       1.00      1.00      1.00       413\n",
            "          11       1.00      1.00      1.00       383\n",
            "          12       1.00      1.00      1.00       406\n",
            "          13       1.00      1.00      1.00       384\n",
            "          14       1.00      1.00      1.00       387\n",
            "          15       1.00      1.00      1.00       403\n",
            "          16       1.00      1.00      1.00       432\n",
            "          17       1.00      1.00      1.00       402\n",
            "          18       1.00      1.00      1.00       407\n",
            "          19       1.00      1.00      1.00       402\n",
            "          20       1.00      1.00      1.00       415\n",
            "          21       1.00      1.00      1.00       440\n",
            "          22       1.00      1.00      1.00       422\n",
            "          23       1.00      0.99      1.00       396\n",
            "          24       1.00      1.00      1.00       395\n",
            "          25       1.00      1.00      1.00       405\n",
            "          26       1.00      1.00      1.00       391\n",
            "          27       1.00      1.00      1.00       433\n",
            "          28       1.00      1.00      1.00       384\n",
            "          29       1.00      1.00      1.00       416\n",
            "          30       1.00      1.00      1.00       395\n",
            "          31       1.00      1.00      1.00       423\n",
            "          32       1.00      0.99      0.99       402\n",
            "          33       1.00      1.00      1.00       412\n",
            "          34       1.00      1.00      1.00       380\n",
            "          36       1.00      1.00      1.00       429\n",
            "          37       1.00      1.00      1.00       422\n",
            "          38       1.00      1.00      1.00       426\n",
            "          39       0.99      1.00      1.00       392\n",
            "          40       1.00      1.00      1.00       388\n",
            "          41       1.00      1.00      1.00       391\n",
            "          42       1.00      1.00      1.00       387\n",
            "          43       1.00      1.00      1.00       380\n",
            "          45       1.00      1.00      1.00       399\n",
            "          46       1.00      1.00      1.00       390\n",
            "          48       1.00      1.00      1.00       380\n",
            "          49       1.00      1.00      1.00       369\n",
            "\n",
            "    accuracy                           1.00     18800\n",
            "   macro avg       1.00      1.00      1.00     18800\n",
            "weighted avg       1.00      1.00      1.00     18800\n",
            "\n"
          ]
        }
      ],
      "source": [
        "import pandas as pd\n",
        "import seaborn as sns\n",
        "import matplotlib.pyplot as plt\n",
        "from sklearn.metrics import confusion_matrix, classification_report\n",
        "\n",
        "def print_confusion_matrix(y_true, y_pred, report=True):\n",
        "    labels = sorted(list(set(y_true)))\n",
        "    cmx_data = confusion_matrix(y_true, y_pred, labels=labels)\n",
        "    \n",
        "    df_cmx = pd.DataFrame(cmx_data, index=labels, columns=labels)\n",
        " \n",
        "    fig, ax = plt.subplots(figsize=(10, 9))\n",
        "    sns.heatmap(df_cmx, annot=True, fmt='g' ,square=False, xticklabels=classifier_labels, yticklabels=classifier_labels)\n",
        "    ax.set_ylim(len(set(y_true)), 0)\n",
        "    plt.show()\n",
        "    \n",
        "    if report:\n",
        "        print('Classification Report')\n",
        "        print(classification_report(y_test, y_pred))\n",
        "\n",
        "Y_pred = model.predict(X_test)\n",
        "y_pred = np.argmax(Y_pred, axis=1)\n",
        "\n",
        "print_confusion_matrix(y_test, y_pred)\n"
      ]
    },
    {
      "cell_type": "markdown",
      "metadata": {},
      "source": [
        "## Accuracy and Loss"
      ]
    },
    {
      "cell_type": "code",
      "execution_count": 15,
      "metadata": {
        "colab": {
          "base_uri": "https://localhost:8080/"
        },
        "id": "pxvb2Y299hE3",
        "outputId": "59eb3185-2e37-4b9e-bc9d-ab1b8ac29b7f"
      },
      "outputs": [
        {
          "name": "stdout",
          "output_type": "stream",
          "text": [
            "2350/2350 [==============================] - 2s 905us/step - loss: 0.0017 - accuracy: 0.9995\n"
          ]
        }
      ],
      "source": [
        "val_loss, val_acc = model.evaluate(X_test, y_test, batch_size=8)"
      ]
    },
    {
      "cell_type": "markdown",
      "metadata": {},
      "source": [
        "## Predict Unseen Data"
      ]
    },
    {
      "cell_type": "code",
      "execution_count": 16,
      "metadata": {
        "colab": {
          "base_uri": "https://localhost:8080/"
        },
        "id": "tFz9Tb0I9hE4",
        "outputId": "1c3b3528-54ae-4ee2-ab04-77429211cbef"
      },
      "outputs": [
        {
          "name": "stdout",
          "output_type": "stream",
          "text": [
            "1/1 [==============================] - 0s 23ms/step\n",
            "[[1.1536064e-11 0.0000000e+00 6.3824187e-28 5.1228056e-28 0.0000000e+00\n",
            "  0.0000000e+00 1.0623528e-37 0.0000000e+00 3.3653673e-19 1.0000000e+00\n",
            "  0.0000000e+00 0.0000000e+00 4.7161765e-38 0.0000000e+00 9.8937332e-28\n",
            "  0.0000000e+00 0.0000000e+00 0.0000000e+00 2.9368099e-30 0.0000000e+00\n",
            "  0.0000000e+00 0.0000000e+00 0.0000000e+00 7.7756665e-29 0.0000000e+00\n",
            "  1.3119264e-21 0.0000000e+00 2.4808276e-30 0.0000000e+00 5.3837654e-22\n",
            "  1.9955755e-24 2.9969671e-19 2.9815897e-23 0.0000000e+00 0.0000000e+00\n",
            "  0.0000000e+00 6.5331506e-28 0.0000000e+00 3.7611111e-23 9.7913263e-17\n",
            "  3.6117985e-16 2.8568909e-34 2.2284824e-34 3.2935709e-27 0.0000000e+00\n",
            "  3.0681528e-13 0.0000000e+00 0.0000000e+00 1.0456908e-30 7.5338473e-29]]\n",
            "[1.1536064e-11 0.0000000e+00 6.3824187e-28 5.1228056e-28 0.0000000e+00\n",
            " 0.0000000e+00 1.0623528e-37 0.0000000e+00 3.3653673e-19 1.0000000e+00\n",
            " 0.0000000e+00 0.0000000e+00 4.7161765e-38 0.0000000e+00 9.8937332e-28\n",
            " 0.0000000e+00 0.0000000e+00 0.0000000e+00 2.9368099e-30 0.0000000e+00\n",
            " 0.0000000e+00 0.0000000e+00 0.0000000e+00 7.7756665e-29 0.0000000e+00\n",
            " 1.3119264e-21 0.0000000e+00 2.4808276e-30 0.0000000e+00 5.3837654e-22\n",
            " 1.9955755e-24 2.9969671e-19 2.9815897e-23 0.0000000e+00 0.0000000e+00\n",
            " 0.0000000e+00 6.5331506e-28 0.0000000e+00 3.7611111e-23 9.7913263e-17\n",
            " 3.6117985e-16 2.8568909e-34 2.2284824e-34 3.2935709e-27 0.0000000e+00\n",
            " 3.0681528e-13 0.0000000e+00 0.0000000e+00 1.0456908e-30 7.5338473e-29]\n",
            "1.0\n",
            "9\n"
          ]
        }
      ],
      "source": [
        "predict_result = model.predict(np.array([X_test[0]]))\n",
        "print(predict_result)\n",
        "print(np.squeeze(predict_result))\n",
        "print(np.sum((predict_result)))\n",
        "print(np.argmax(np.squeeze(predict_result)))"
      ]
    },
    {
      "cell_type": "markdown",
      "metadata": {
        "id": "FNP6aqzc9hE5"
      },
      "source": [
        "# Convert TFLite"
      ]
    },
    {
      "cell_type": "markdown",
      "metadata": {},
      "source": [
        "## Save Model"
      ]
    },
    {
      "cell_type": "code",
      "execution_count": 17,
      "metadata": {
        "id": "ODjnYyld9hE6"
      },
      "outputs": [],
      "source": [
        "model.save(model_save_path)"
      ]
    },
    {
      "cell_type": "markdown",
      "metadata": {},
      "source": [
        "## Load Model"
      ]
    },
    {
      "cell_type": "code",
      "execution_count": 18,
      "metadata": {},
      "outputs": [],
      "source": [
        "model = tf.keras.models.load_model(model_save_path)"
      ]
    },
    {
      "cell_type": "markdown",
      "metadata": {},
      "source": [
        "## Quantization & Save"
      ]
    },
    {
      "cell_type": "code",
      "execution_count": 19,
      "metadata": {
        "colab": {
          "base_uri": "https://localhost:8080/"
        },
        "id": "zRfuK8Y59hE6",
        "outputId": "a4ca585c-b5d5-4244-8291-8674063209bb"
      },
      "outputs": [
        {
          "name": "stdout",
          "output_type": "stream",
          "text": [
            "INFO:tensorflow:Assets written to: C:\\Users\\leenh\\AppData\\Local\\Temp\\tmptwyea3o7\\assets\n"
          ]
        },
        {
          "data": {
            "text/plain": [
              "72840"
            ]
          },
          "execution_count": 19,
          "metadata": {},
          "output_type": "execute_result"
        }
      ],
      "source": [
        "converter = tf.lite.TFLiteConverter.from_keras_model(model)\n",
        "# converter.optimizations = [tf.lite.Optimize.DEFAULT]\n",
        "tflite_quantized_model = converter.convert()\n",
        "\n",
        "open(tflite_save_path, 'wb').write(tflite_quantized_model)\n"
      ]
    },
    {
      "cell_type": "markdown",
      "metadata": {
        "id": "CHBPBXdx9hE6"
      },
      "source": [
        "# Inference test"
      ]
    },
    {
      "cell_type": "markdown",
      "metadata": {},
      "source": [
        "## Setup Interpreter Interface"
      ]
    },
    {
      "cell_type": "code",
      "execution_count": 20,
      "metadata": {
        "id": "mGAzLocO9hE7"
      },
      "outputs": [],
      "source": [
        "interpreter = tf.lite.Interpreter(model_path=tflite_save_path)\n",
        "interpreter.allocate_tensors()"
      ]
    },
    {
      "cell_type": "markdown",
      "metadata": {},
      "source": [
        "## Get Tensor Details"
      ]
    },
    {
      "cell_type": "code",
      "execution_count": 21,
      "metadata": {
        "id": "oQuDK8YS9hE7"
      },
      "outputs": [],
      "source": [
        "# Get I / O tensor\n",
        "input_details = interpreter.get_input_details()\n",
        "output_details = interpreter.get_output_details()"
      ]
    },
    {
      "cell_type": "markdown",
      "metadata": {},
      "source": [
        "## Implement Inference"
      ]
    },
    {
      "cell_type": "markdown",
      "metadata": {},
      "source": [
        "### Setup Input Tensor"
      ]
    },
    {
      "cell_type": "code",
      "execution_count": 22,
      "metadata": {
        "id": "2_ixAf_l9hE7"
      },
      "outputs": [],
      "source": [
        "interpreter.set_tensor(input_details[0]['index'], np.array([X_test[0]]))"
      ]
    },
    {
      "cell_type": "markdown",
      "metadata": {},
      "source": [
        "### Invoke Interpreter"
      ]
    },
    {
      "cell_type": "code",
      "execution_count": 23,
      "metadata": {
        "colab": {
          "base_uri": "https://localhost:8080/"
        },
        "id": "s4FoAnuc9hE7",
        "outputId": "91f18257-8d8b-4ef3-c558-e9b5f94fabbf",
        "scrolled": true
      },
      "outputs": [
        {
          "name": "stdout",
          "output_type": "stream",
          "text": [
            "CPU times: total: 0 ns\n",
            "Wall time: 0 ns\n"
          ]
        }
      ],
      "source": [
        "%%time\n",
        "interpreter.invoke()"
      ]
    },
    {
      "cell_type": "markdown",
      "metadata": {},
      "source": [
        "### Get Tensor Output"
      ]
    },
    {
      "cell_type": "code",
      "execution_count": 24,
      "metadata": {},
      "outputs": [
        {
          "name": "stdout",
          "output_type": "stream",
          "text": [
            "[1.1535997e-11 0.0000000e+00 6.3823941e-28 5.1227864e-28 0.0000000e+00\n",
            " 0.0000000e+00 9.4039548e-38 0.0000000e+00 3.3653543e-19 1.0000000e+00\n",
            " 0.0000000e+00 0.0000000e+00 4.7019774e-38 0.0000000e+00 9.8937332e-28\n",
            " 0.0000000e+00 0.0000000e+00 0.0000000e+00 2.9368098e-30 0.0000000e+00\n",
            " 0.0000000e+00 0.0000000e+00 0.0000000e+00 7.7755485e-29 0.0000000e+00\n",
            " 1.3119164e-21 0.0000000e+00 2.4808086e-30 0.0000000e+00 5.3837245e-22\n",
            " 1.9955524e-24 2.9969671e-19 2.9815780e-23 0.0000000e+00 0.0000000e+00\n",
            " 0.0000000e+00 6.5331251e-28 0.0000000e+00 3.7611108e-23 9.7912509e-17\n",
            " 3.6117845e-16 2.8568912e-34 2.2284655e-34 3.2935709e-27 0.0000000e+00\n",
            " 3.0681295e-13 0.0000000e+00 0.0000000e+00 1.0456909e-30 7.5337908e-29]\n",
            "9\n"
          ]
        }
      ],
      "source": [
        "tflite_results = interpreter.get_tensor(output_details[0]['index'])\n",
        "print(np.squeeze(tflite_results))\n",
        "print(np.argmax(np.squeeze(tflite_results)))"
      ]
    }
  ],
  "metadata": {
    "accelerator": "GPU",
    "colab": {
      "collapsed_sections": [],
      "name": "keypoint_classification_EN.ipynb",
      "provenance": [],
      "toc_visible": true
    },
    "kernelspec": {
      "display_name": "Python (tf_env)",
      "language": "python",
      "name": "tf_env"
    },
    "language_info": {
      "codemirror_mode": {
        "name": "ipython",
        "version": 3
      },
      "file_extension": ".py",
      "mimetype": "text/x-python",
      "name": "python",
      "nbconvert_exporter": "python",
      "pygments_lexer": "ipython3",
      "version": "3.8.18"
    }
  },
  "nbformat": 4,
  "nbformat_minor": 0
}
